{
 "cells": [
  {
   "cell_type": "markdown",
   "metadata": {},
   "source": [
    "# Wavefunctions and Operators"
   ]
  },
  {
   "cell_type": "markdown",
   "metadata": {},
   "source": [
    "## Wavefunctions\n",
    "\n",
    "### Classical Wave Equation\n",
    "\n",
    "$$\\frac{\\partial^2 u}{\\partial x^2} = \\frac{1}{v^2}\\frac{\\partial^2 u}{\\partial t^2}$$\n",
    "\n",
    "\n",
    "### Time-independent Schrödinger Equation (Yes, there is a time-dependent equation and it will be introduced later)\n",
    "\n",
    "$$\\hat{H}\\psi(x) = E\\psi(x)$$\n",
    "\n",
    "Wavefunctions determine all the dynamical information of a system. In particular, the equations shown above are differential equations.\n",
    "\n",
    "Now, we have methods of finding solutions to these, but what is the $\\hat{H}$ symbol?\n",
    "\n",
    "## Operators\n",
    "\n",
    "Operators, in simplest terms, are symbols that tell you to do operations, or \"operate\", on whatever follows. In quantum mechanics, they're denoted with a small carot above a symbol, called a hat.\n",
    "\n",
    "Generically, $\\hat{A}f(x)=g(x)$, describes the operator $\\hat{A}$ operating on $f(x)$ giving a new function $g(x)$.\n",
    "\n",
    "Let's give a simple example to demonstrate:\n",
    "\n",
    "$$\\hat{A}(2x),\\: \\hat{A}=\\frac{d^2}{dx^2}$$\n",
    "\n",
    "So we start by taking the derivative with respect to x, then do it again:\n",
    "\n",
    "$$\\hat{A}(2x)=\\frac{d}{dx}(\\frac{d}{dx}(2x))$$\n",
    "$$\\hat{A}(2x)=\\frac{d}{dx}(2)$$\n",
    "$$\\hat{A}(2x)=0$$\n",
    "\n",
    "\n",
    "### Exercise (by hand)\n",
    "This was simple enough. Now let's do that with $\\hat{A}(e^{ikx}), \\space \\hat{A}=-i\\hbar\\frac{d}{dx}$.\n",
    "\n",
    "\n",
    "\n",
    "\n",
    "\n",
    "\n",
    "\n",
    "\n",
    "\n",
    "### Exercise (with Python)\n",
    "\n",
    "We're going to do the same problem using python. See code below.\n",
    "\n",
    "We're going to use sympy to evaluate this expression symbolically.\n",
    "\n"
   ]
  },
  {
   "cell_type": "code",
   "execution_count": 7,
   "metadata": {},
   "outputs": [],
   "source": [
    "from sympy import symbols, diff, exp"
   ]
  },
  {
   "cell_type": "code",
   "execution_count": 13,
   "metadata": {},
   "outputs": [
    {
     "name": "stdout",
     "output_type": "stream",
     "text": [
      "hbar*k*exp(I*k*x)\n"
     ]
    }
   ],
   "source": [
    "x, k, hbar = symbols('x k hbar')\n",
    "expr = exp(I*k*x)\n",
    "result = -I*hbar*diff(expr, x)\n",
    "print(result)\n"
   ]
  },
  {
   "cell_type": "markdown",
   "metadata": {},
   "source": [
    "Is this the same result we got from the hand calculation?"
   ]
  },
  {
   "cell_type": "markdown",
   "metadata": {},
   "source": [
    "Additionally, these operators we use in quantum mechanics must be *linear*.\n",
    "\n",
    "What do we mean by a *linear operator*?\n",
    "\n",
    "$$\\hat{A}[c_1f_1(x) + c_2f_2(x)] = c_1\\hat{A}f_1(x) + c_2\\hat{A}f_2(x)$$\n",
    "\n",
    "$c_1$ and $c_2$ are constants. They can be complex.\n",
    "\n",
    "Let's give a couple of examples of linear operators.\n",
    "\n",
    "$$\\frac{d}{dx}[c_1f_1(x) + c_2f_2(x)] = c_1\\frac{df_1}{dx} + c_2\\frac{df_2}{dx}$$\n",
    "\n",
    "\n",
    "$$\\int[c_1f_1(x) + c_2f_2(x)]dx = c_1\\int f_1dx + c_2\\int f_2dx$$\n",
    "\n",
    "Integration and differentiation are therefore linear. Whereas the *square* operator is nonlinear:\n",
    "\n",
    "$$SQR[c_1f_1(x) + c_2f_2(x)] = c_1^2 f_1^2(x) + c_2^2 f_2^2(x) +2c_1c_2f_1(x)f_2(x)$$\n",
    "$$\\neq c_1f_1^2(x) + c_2f_2^2(x)$$\n",
    "\n",
    "Therefore, the *square* operator is nonlinear.\n",
    "\n",
    "### Exercise (by hand)\n",
    "\n",
    "Is $\\hat{A}=x^2$ a linear operator?\n",
    "\n",
    "\n",
    "\n",
    "\n",
    "\n",
    "\n",
    "\n",
    "\n",
    "\n",
    "\n",
    "### Exercise (python)\n"
   ]
  },
  {
   "cell_type": "code",
   "execution_count": 16,
   "metadata": {},
   "outputs": [
    {
     "name": "stdout",
     "output_type": "stream",
     "text": [
      "c1*x**2*y1 + c2*x**2*y2\n"
     ]
    }
   ],
   "source": [
    "x, y1, y2, c1, c2 = symbols('x y1 y2 c1 c2')\n",
    "expr =  c1*y1 + c2*y2\n",
    "result = x**2*expr\n",
    "print(result.expand())"
   ]
  },
  {
   "cell_type": "markdown",
   "metadata": {},
   "source": [
    "As we can see above, $x^2$ is a linear operator!"
   ]
  },
  {
   "cell_type": "markdown",
   "metadata": {},
   "source": [
    "## Schrödinger Equation is an Eigenvalue Problem\n",
    "\n",
    "Given an operator, $\\hat{A}$, find a function, $\\phi(x)$, and a constant $a$ that satisfies the following:\n",
    "\n",
    "$$\\hat{A}\\phi(x)=a\\phi(x)$$\n",
    "\n",
    "where $a$ is called the *eigenvalue* and $\\phi(x)$ is an *eigenfunction*."
   ]
  },
  {
   "cell_type": "markdown",
   "metadata": {},
   "source": [
    "Let's use the momentum operator as an example to setup and eigenvalue problem, where the momentum operator is:\n",
    "\n",
    "$$\\hat{P}_x=-i\\hbar\\frac{\\partial}{\\partial x}$$\n",
    "\n",
    "Given an eigenfunction, $e^{ikx}$, what is the eigenvalue?\n",
    "\n",
    "$$\\hat{P}_x(e^{ikx}) = -i\\hbar\\frac{\\partial}{\\partial x}(e^{ikx}) = \\hbar k e^{ikx}$$\n",
    "\n",
    "where $e^{ikx}$ is the eigenfunction and $\\hbar k$ is the eigenvalue."
   ]
  },
  {
   "cell_type": "markdown",
   "metadata": {},
   "source": []
  }
 ],
 "metadata": {
  "kernelspec": {
   "display_name": "pchem",
   "language": "python",
   "name": "python3"
  },
  "language_info": {
   "codemirror_mode": {
    "name": "ipython",
    "version": 3
   },
   "file_extension": ".py",
   "mimetype": "text/x-python",
   "name": "python",
   "nbconvert_exporter": "python",
   "pygments_lexer": "ipython3",
   "version": "3.12.6"
  }
 },
 "nbformat": 4,
 "nbformat_minor": 2
}
