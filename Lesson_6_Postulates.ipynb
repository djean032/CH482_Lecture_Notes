{
 "cells": [
  {
   "cell_type": "markdown",
   "metadata": {},
   "source": [
    "# Postulates of Quantum Mechanics\n",
    "\n",
    "## The State of a System is Completely Specified by its Wave Function\n",
    "\n",
    "### Postulate 1\n",
    "In other words, all the dynamical information of a quantum system is contained within the wave function, with those dynamical variables being called the observables.\n",
    "\n",
    "Due to this definition, and given the definition that\n",
    "\n",
    "$$ \\psi^*(x,y,z)\\psi(x,y,z)dxdydz$$\n",
    "\n",
    "is the probability that a particle lies in the volume element $dxdydz$. To satisfy the physical requirement, that a particle exists, we require that\n",
    "\n",
    "$$ \\int_{-\\infty}^{\\infty}\\psi^*(x,y,z)\\psi(x,y,z)dxdydz = 1$$\n",
    "\n",
    "This can also be stated that the probability that we will find a particle if we look over all space is $100\\%$.\n",
    "\n",
    "Additionally, to be physically suitable wave function, it must be well behaved. Its integral must converge (over the interval in question) and its first derivative must be single-valued, continuous, and finite.\n",
    "\n",
    "\n",
    "## Quantum-Mechanical Operators Represent Classical-Mechanical Variables\n",
    "\n",
    "### Postulate 2\n",
    "Each observable in classical mechanics is represented by a linear operator in quantum mechanics.\n",
    "\n",
    "![image.png](images/T4.1.jpg)\n",
    "\n",
    "\n",
    "## Observables are Eigenvalues of Quantum Mechanical Operators\n",
    "\n",
    "### Postulate 3\n",
    "During the measurement of an observable, the only values that will actually be observed are those values, $a_n$, that satisfy the following expression:\n",
    "\n",
    "$$\\hat{A}\\psi_n=a_n\\psi_n$$\n",
    "\n",
    "\n",
    "### Postulate 4\n",
    "A system in a state described by a normalized wavefunction, $\\psi$, has expectation values for its observables defined as:\n",
    "\n",
    "$$\\langle a \\rangle = \\int_{-\\infty}^{\\infty}\\psi^*\\hat{A}\\psi dx$$\n",
    "\n",
    "\n",
    "### Postulate 5\n",
    "The wavefunction evolves in time according to the time-dependent Schrodinger equation.\n",
    "\n",
    "$$ \\hat{H}\\Psi(x,t)=i\\hbar\\frac{\\partial\\Psi(x,t)}{\\partial t}$$\n",
    "\n",
    "This is the first postulate that is new. $\\hat{H}$ does not contain time, so we are able to separate their variables.\n",
    "\n",
    "$$\\Psi(x, t)=\\psi(x)f(t)$$\n",
    "\n",
    "Let's substitute this expression into the Time-Dependent Schrodinger Equation and divide through by $\\psi(x)f(t)$:\n",
    "\n",
    "$$\\frac{1}{\\psi(x)}\\hat{H}\\psi(x)=\\frac{i\\hbar}{f(t)}\\frac{df(t)}{dt}$$\n",
    "\n",
    "The left side is a function of x only and the right is only a function of t; therefore, they must each equal a constant. We'll denote this constant that relates each side as $E$, giving us the time-independent Schrodinger equation.\n",
    "\n",
    "$$\\hat{H}\\psi(x)=E\\psi(x)$$\n",
    "\n",
    "and\n",
    "\n",
    "$$\\frac{df(t)}{dt}=-\\frac{i}{\\hbar}Ef(t)$$\n",
    "\n",
    "Next, let us integrate the previous equation giving:\n",
    "\n",
    "$$f(t)=e^{-iEt/\\hbar}$$"
   ]
  },
  {
   "cell_type": "code",
   "execution_count": 5,
   "metadata": {},
   "outputs": [
    {
     "data": {
      "text/latex": [
       "$\\displaystyle - \\frac{E f i t}{\\hbar}$"
      ],
      "text/plain": [
       "-E*f*i*t/hbar"
      ]
     },
     "execution_count": 5,
     "metadata": {},
     "output_type": "execute_result"
    }
   ],
   "source": [
    "from sympy import *\n",
    "i, hbar, E, t = symbols('i hbar E t')\n",
    "f = Function('f')(t)\n",
    "expr = -i/hbar * E * f\n",
    "integrate(expr, t)\n"
   ]
  },
  {
   "cell_type": "markdown",
   "metadata": {},
   "source": []
  }
 ],
 "metadata": {
  "kernelspec": {
   "display_name": "pchem",
   "language": "python",
   "name": "python3"
  },
  "language_info": {
   "codemirror_mode": {
    "name": "ipython",
    "version": 3
   },
   "file_extension": ".py",
   "mimetype": "text/x-python",
   "name": "python",
   "nbconvert_exporter": "python",
   "pygments_lexer": "ipython3",
   "version": "3.12.6"
  }
 },
 "nbformat": 4,
 "nbformat_minor": 2
}
