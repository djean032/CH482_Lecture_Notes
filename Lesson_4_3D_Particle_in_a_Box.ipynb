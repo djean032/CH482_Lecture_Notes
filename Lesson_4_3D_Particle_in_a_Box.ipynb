{
 "cells": [
  {
   "cell_type": "markdown",
   "metadata": {},
   "source": [
    "# 3-D Particle in a Box"
   ]
  },
  {
   "cell_type": "markdown",
   "metadata": {},
   "source": [
    "## Extend 1-D to 3-D\n",
    "Now, let's extend our 1-D model to a 3-D box.\n",
    "\n",
    "Let's recall our Hamiltonian operator\n",
    "\n",
    "$$\\hat{H}=-\\frac{\\hbar}{2m}\\frac{d^2}{dx^2}$$\n",
    "\n",
    "Let's extend this to our other two axes.\n",
    "\n",
    "$$\\hat{H}=-\\frac{\\hbar}{2m}(\\frac{\\partial^2}{\\partial x^2}+\\frac{\\partial^2}{\\partial y^2}+\\frac{\\partial^2}{\\partial z^2})$$\n",
    "\n",
    "We often write this as\n",
    "\n",
    "$$-\\frac{\\hbar^2}{2m}\\nabla^2\\psi=E\\psi$$\n",
    "\n",
    "where we substitute our term containig partial derivatives with the operator, $\\nabla^2$, which is called the *Laplacian operator*.\n",
    "\n",
    "Similarly, our boundary conditions apply here as well.\n",
    "\n",
    "$$\\psi(0, y, z) = \\psi(a, y, z)=0$$\n",
    "$$\\psi(x, 0, z) = \\psi(x, a, z)=0$$\n",
    "$$\\psi(x, y, 0) = \\psi(x, y, a)=0$$\n",
    "\n",
    "\n",
    "Now, we'll use a method for solving this problem that we will use throughout this course, separation of variables.\n",
    "\n",
    "$$\\psi(x, y, z)=X(x)Y(y)Z(z)$$\n",
    "\n",
    "which when we substitute into our Schrodinger Equation and dive by $X(x)Y(y)Z(z)$, we get:\n",
    "\n",
    "$$-\\frac{\\hbar^2}{2m}\\frac{1}{X(x)}\\frac{d^2X}{dx^2}-\\frac{\\hbar^2}{2m}\\frac{1}{Y(y)}\\frac{d^2Y}{dy^2}-\\frac{\\hbar^2}{2m}\\frac{1}{Z(z)}\\frac{d^2Z}{dz^2}=E$$\n",
    "\n",
    "where each term is only a function of one of our three independent variables which allows us to write the energy as a sum\n",
    "\n",
    "$$E_x+E_y+E_z=E$$\n",
    "\n",
    "$$E_x = -\\frac{\\hbar^2}{2m}\\frac{1}{X(x)}\\frac{d^2X}{dx^2}$$\n",
    "$$E_y = -\\frac{\\hbar^2}{2m}\\frac{1}{Y(y)}\\frac{d^2Y}{dy^2}$$\n",
    "$$E_z = -\\frac{\\hbar^2}{2m}\\frac{1}{Z(z)}\\frac{d^2Z}{dz^2}$$\n",
    "\n",
    "Now, combined with our boundary conditions, we see that our wavefunctions are the same as the 1-D case.\n",
    "\n",
    "$$X(x)=A_x sin\\frac{n_x \\pi x}{a}$$\n",
    "$$Y(y)=A_y sin\\frac{n_y \\pi y}{b}$$\n",
    "$$Z(z)=A_z sin\\frac{n_z \\pi z}{c}$$\n",
    "\n",
    "giving us an overall wavefunction of\n",
    "\n",
    "\n",
    "$$\\\\psi(x,y,z)=A_x A_y A_z sin\\frac{n_x \\pi x}{a} sin\\frac{n_y \\pi y}{b} sin\\frac{n_z \\pi z}{c}$$\n",
    "\n",
    "Using our condition of normaliztion we find that \n",
    "\n",
    "$$A_x A_y A_z = {(\\frac{8}{abc})}^{\\frac{1}{2}}$$\n",
    "\n",
    "\n",
    "Thus our normalized wavefunctions are\n",
    "\n",
    "$$\\psi(x,y,z)={(\\frac{8}{abc})}^{\\frac{1}{2}} sin\\frac{n_x \\pi x}{a} sin\\frac{n_y \\pi y}{b} sin\\frac{n_z \\pi z}{c}$$\n",
    "\n",
    "Now let's derive our energy expression. We'll do this with the x-axis only as it would be repetitive for the other two axes.\n",
    "\n",
    "\n",
    "$$E_x = -\\frac{\\hbar^2}{2m}\\frac{1}{sin\\frac{n_x \\pi x}{a}}\\frac{d^2}{dx^2}sin\\frac{n_x \\pi x}{a}$$\n",
    "\n",
    "We've omitted $A_x$ as we've determined its value when multipled by $A_y$ and $A_z$ and it is a constant so it can be pulled to the front of the expression.\n",
    "\n",
    "$$E_x = -\\frac{\\hbar^2}{2m}\\frac{1}{sin\\frac{n_x \\pi x}{a}}\\cdot-\\frac{\\pi^2 n_x^2 sin\\frac{n_x \\pi x}{a}}{a^2}$$\n",
    "\n",
    "$$E_x = \\frac{h^2}{8m}(\\frac{n_x^2}{a^2})$$\n",
    "\n",
    "$E_y$ and $E_z$ can be derived similarly giving us an overall expression of:\n",
    "\n",
    "$$E_{n_x n_y n_z} = \\frac{h^2}{8m}(\\frac{n_x^2}{a^2} + \\frac{n_y^2}{b^2} + \\frac{n_z^2}{c^2})$$\n",
    "\n",
    "Other operators can be applied similarly. Let's take a look at the momentum operator in 3-D.\n",
    "\n",
    "$$\\hat{\\textbf{P}} = -i\\hbar(\\textbf{i}\\frac{\\partial}{\\partial x} + \\textbf{j}\\frac{\\partial}{\\partial y} + \\textbf{k}\\frac{\\partial}{\\partial z})$$\n",
    "\n",
    "### Exercise\n",
    "\n",
    "Show that $\\langle p \\rangle=0$. Do this using Python or by hand.\n",
    "\n",
    "\n",
    "\n",
    "\n",
    "\n",
    "\n",
    "\n",
    "\n",
    "\n"
   ]
  },
  {
   "cell_type": "code",
   "execution_count": 1,
   "metadata": {},
   "outputs": [],
   "source": [
    "from sympy import *"
   ]
  },
  {
   "cell_type": "code",
   "execution_count": 7,
   "metadata": {},
   "outputs": [
    {
     "name": "stdout",
     "output_type": "stream",
     "text": [
      "Expectation value of the momentum operator is: 0\n"
     ]
    }
   ],
   "source": [
    "x, y, z, a, b, c, hbar = symbols('x y z a b c, hbar', positive=True)\n",
    "n_x, n_y, n_z = symbols('n_x n_y n_z', integer=True, positive=True)\n",
    "expr = sqrt(8/(a*b*c)) * sin(n_x*pi*x/a) * sin(n_y*pi*y/b) * sin(n_z*pi*z/c) * -I * hbar * (diff(sin(n_x*pi*x/a), x)+ diff(sin(n_y*pi*y/b), y) + diff(sin(n_z*pi*z/c), z))\n",
    "result = integrate(expr, (x, 0, a), (y, 0, b), (z, 0, c))\n",
    "print(\"Expectation value of the momentum operator is: \" + str(result))"
   ]
  },
  {
   "cell_type": "markdown",
   "metadata": {},
   "source": [
    "Shown!"
   ]
  },
  {
   "cell_type": "markdown",
   "metadata": {},
   "source": [
    "## Degeneracy\n",
    "\n",
    "Now let's talk about what occurs in the special case that $a=b=c$, *i.e.* a cube.\n",
    "\n",
    "Our expression for energy becomes\n",
    "\n",
    "$$E_{n_x n_y n_z}=\\frac{h^2}{8ma^2}(n_x^2 + n_y^2 + n_z^2)$$\n",
    "\n",
    "We can see, from inspection, that different combinations of $n_x, \\space n_y,$ and $n_z$ we get identical energy levels.\n",
    "\n",
    "Let's look at our possible combinations of energy levels.\n",
    "\n",
    "![image.png](images/F3.6.jpg)"
   ]
  },
  {
   "cell_type": "markdown",
   "metadata": {},
   "source": [
    "Now, the interesting fact that the energy eigenvalues can be found independently for each direction and then summed is derived directly from the Hamiltonian having those same independent terms. We will apply this concept throughout the rest of this course."
   ]
  },
  {
   "cell_type": "markdown",
   "metadata": {},
   "source": []
  }
 ],
 "metadata": {
  "kernelspec": {
   "display_name": "pchem",
   "language": "python",
   "name": "python3"
  },
  "language_info": {
   "codemirror_mode": {
    "name": "ipython",
    "version": 3
   },
   "file_extension": ".py",
   "mimetype": "text/x-python",
   "name": "python",
   "nbconvert_exporter": "python",
   "pygments_lexer": "ipython3",
   "version": "3.12.6"
  }
 },
 "nbformat": 4,
 "nbformat_minor": 2
}
