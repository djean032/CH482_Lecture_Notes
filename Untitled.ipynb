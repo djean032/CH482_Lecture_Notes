{
 "cells": [
  {
   "cell_type": "code",
   "execution_count": 11,
   "id": "c3f4cdec-9348-4947-9879-eeb71fab6922",
   "metadata": {},
   "outputs": [],
   "source": [
    "var('A B C D E k1 k2 hbar E V_0 m a')\n",
    "eq1 = (A+B == C + D)\n",
    "eq2 = (I*k1*(A - B)==k2*(C - D))\n",
    "eq3 = (C*exp(k2*a) + D*exp(-k2*a) == E*exp(I*k1*a))\n",
    "eq4 = (k2*C*exp(k2*a) - k2*D*exp(-k2*a)==I * k1* E*exp(I*k1*a))\n",
    "system = [eq1, eq2, eq3, eq4]\n",
    "solution = solve(eqs, [A, B, C, D, E], solver='maxima')"
   ]
  },
  {
   "cell_type": "code",
   "execution_count": 12,
   "id": "349a13bc-b295-470f-a19b-a372942db39a",
   "metadata": {},
   "outputs": [
    {
     "name": "stdout",
     "output_type": "stream",
     "text": [
      "[\n",
      "[A == -1/4*I*((r1*e^(I*a*k1 + 2*a*k2) - r1*e^(I*a*k1))*k1^2 + 2*I*(r1*e^(I*a*k1 + 2*a*k2) + r1*e^(I*a*k1))*k1*k2 - (r1*e^(I*a*k1 + 2*a*k2) - r1*e^(I*a*k1))*k2^2)*e^(-a*k2)/(k1*k2), B == -1/4*I*((r1*e^(I*a*k1 + 2*a*k2) - r1*e^(I*a*k1))*k1^2 + (r1*e^(I*a*k1 + 2*a*k2) - r1*e^(I*a*k1))*k2^2)*e^(-a*k2)/(k1*k2), C == -1/2*(-I*k1*r1*e^(I*a*k1) - k2*r1*e^(I*a*k1))*e^(-a*k2)/k2, D == -1/2*(I*k1*r1*e^(I*a*k1 + a*k2) - k2*r1*e^(I*a*k1 + a*k2))/k2, E == r1]\n",
      "]\n"
     ]
    }
   ],
   "source": [
    "print(solution)"
   ]
  },
  {
   "cell_type": "code",
   "execution_count": 19,
   "id": "e4e707bc-ee04-4d7b-a23f-5c8555e6bdf6",
   "metadata": {},
   "outputs": [],
   "source": [
    "T=(abs(solution[0][4]/solution[0][0])**2).full_simplify()"
   ]
  },
  {
   "cell_type": "code",
   "execution_count": 21,
   "id": "4273dca1-6aa6-4a1f-9c0d-763e3de471dd",
   "metadata": {},
   "outputs": [
    {
     "data": {
      "text/plain": [
       "\\frac{E^{2}}{A^{2}} = -\\frac{16 \\, k_{1}^{2} k_{2}^{2} e^{\\left(2 \\, a k_{2}\\right)}}{k_{1}^{4} e^{\\left(2 i \\, a k_{1}\\right)} - 4 i \\, k_{1}^{3} k_{2} e^{\\left(2 i \\, a k_{1}\\right)} - 6 \\, k_{1}^{2} k_{2}^{2} e^{\\left(2 i \\, a k_{1}\\right)} + 4 i \\, k_{1} k_{2}^{3} e^{\\left(2 i \\, a k_{1}\\right)} + k_{2}^{4} e^{\\left(2 i \\, a k_{1}\\right)} + {\\left(k_{1}^{4} e^{\\left(2 i \\, a k_{1}\\right)} + 4 i \\, k_{1}^{3} k_{2} e^{\\left(2 i \\, a k_{1}\\right)} - 6 \\, k_{1}^{2} k_{2}^{2} e^{\\left(2 i \\, a k_{1}\\right)} - 4 i \\, k_{1} k_{2}^{3} e^{\\left(2 i \\, a k_{1}\\right)} + k_{2}^{4} e^{\\left(2 i \\, a k_{1}\\right)}\\right)} e^{\\left(4 \\, a k_{2}\\right)} - 2 \\, {\\left(k_{1}^{4} e^{\\left(2 i \\, a k_{1}\\right)} + 2 \\, k_{1}^{2} k_{2}^{2} e^{\\left(2 i \\, a k_{1}\\right)} + k_{2}^{4} e^{\\left(2 i \\, a k_{1}\\right)}\\right)} e^{\\left(2 \\, a k_{2}\\right)}}"
      ]
     },
     "execution_count": 21,
     "metadata": {},
     "output_type": "execute_result"
    }
   ],
   "source": [
    "latex(T)"
   ]
  },
  {
   "cell_type": "code",
   "execution_count": null,
   "id": "142cd239-b9c2-4d22-be32-56e2268b3111",
   "metadata": {},
   "outputs": [],
   "source": []
  }
 ],
 "metadata": {
  "kernelspec": {
   "display_name": "SageMath 10.5",
   "language": "sage",
   "name": "sagemath-10.5"
  },
  "language_info": {
   "codemirror_mode": {
    "name": "ipython",
    "version": 3
   },
   "file_extension": ".py",
   "mimetype": "text/x-python",
   "name": "python",
   "nbconvert_exporter": "python",
   "pygments_lexer": "ipython3",
   "version": "3.12.5"
  }
 },
 "nbformat": 4,
 "nbformat_minor": 5
}
